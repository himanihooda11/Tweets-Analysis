{
 "cells": [
  {
   "cell_type": "code",
   "execution_count": 1,
   "id": "abdfc63b",
   "metadata": {},
   "outputs": [],
   "source": [
    "# Import Libraries\n",
    "import pymongo\n",
    "import json\n",
    "from bson.objectid import ObjectId\n",
    "from datetime import datetime\n",
    "import pandas as pd"
   ]
  },
  {
   "cell_type": "code",
   "execution_count": 2,
   "id": "b58ba3df",
   "metadata": {},
   "outputs": [],
   "source": [
    "\n",
    "#Establish the connection and make the database\n",
    "client = pymongo.MongoClient(\"mongodb://localhost:27017/\") \n",
    "db_list = client.list_database_names()"
   ]
  },
  {
   "cell_type": "code",
   "execution_count": 3,
   "id": "8de49978",
   "metadata": {},
   "outputs": [
    {
     "data": {
      "text/plain": [
       "['Tweets', 'admin', 'config', 'local', 'mydatabase']"
      ]
     },
     "execution_count": 3,
     "metadata": {},
     "output_type": "execute_result"
    }
   ],
   "source": [
    "db_list\n"
   ]
  },
  {
   "cell_type": "code",
   "execution_count": 4,
   "id": "e59acb9f",
   "metadata": {},
   "outputs": [
    {
     "name": "stdout",
     "output_type": "stream",
     "text": [
      "Database already exists. Will be dropped...\n",
      "Database connection established\n"
     ]
    }
   ],
   "source": [
    "if \"Tweets\" in db_list:\n",
    "    print(\"Database already exists. Will be dropped...\")\n",
    "    client.drop_database(\"Tweets\")\n",
    "db = client[\"Tweets\"]\n",
    "col_list = db.list_collection_names()\n",
    "if \"Tweets_collection\" in col_list:\n",
    "        print(\"Tweets Collection already exists. Will be dropped...\")\n",
    "        db.Tweets_data.drop()\n",
    "tweets_collec = db[\"Tweets_collection\"]\n",
    "print(\"Database connection established\")"
   ]
  },
  {
   "cell_type": "code",
   "execution_count": 5,
   "id": "f9277cf7",
   "metadata": {},
   "outputs": [],
   "source": [
    "def insert_tweet(tweet_info):\n",
    "    try:\n",
    "        tweets_collec.insert_one(tweet_info)\n",
    "    except Exception as e:\n",
    "        print(str(e))"
   ]
  },
  {
   "cell_type": "code",
   "execution_count": 6,
   "id": "b3ca60c9",
   "metadata": {},
   "outputs": [],
   "source": [
    "def find_tweet(tweet_id):\n",
    "    tweet = tweets_collec.find_one({\"Tweet_Id\": tweet_id})\n",
    "    if tweet:\n",
    "        return True\n",
    "    else:\n",
    "        return False"
   ]
  },
  {
   "cell_type": "code",
   "execution_count": 7,
   "id": "34b6aae3",
   "metadata": {},
   "outputs": [],
   "source": [
    "def retweet_update(tweet_id, retweet_id):\n",
    "    try:\n",
    "        tweets_collec.update_one({'Tweet_Id': tweet_id}, {\"$inc\": {'Retweet_Count': 1}})\n",
    "    except Exception as e:\n",
    "        print(f\"Error updating tweet {tweet_id}: {e}\")"
   ]
  },
  {
   "cell_type": "code",
   "execution_count": 8,
   "id": "fe951566",
   "metadata": {},
   "outputs": [],
   "source": [
    "# function to load data\n",
    "\n",
    "def process_tweets(file_path):\n",
    "    with open(file_path, \"r\") as read_file:\n",
    "        for line in read_file:\n",
    "            try:\n",
    "                data = json.loads(line)\n",
    "\n",
    "                # check if tweet already exists\n",
    "                if find_tweet(data['id_str']):\n",
    "                    continue\n",
    "\n",
    "                # check for retweet\n",
    "                if data['text'].startswith('RT'):\n",
    "                    if data['retweeted_status']!=None:\n",
    "                        source_tweet_Id = data['retweeted_status']['id_str']\n",
    "                        if find_tweet(source_tweet_Id):\n",
    "                            retweet_update(source_tweet_Id, data['id_str'])\n",
    "                        else:\n",
    "                            tweet_info = {\n",
    "                                'created_at':datetime.strftime(datetime.strptime(data['retweeted_status']['created_at'],'%a %b %d %H:%M:%S +0000 %Y'),'%Y-%m-%d %H:%M:%S'),\n",
    "                                'Tweet_Id':data['retweeted_status']['id_str'],\n",
    "                                'Text':data['retweeted_status']['text'],\n",
    "                                'Hashtag':list(map(lambda x: x[\"text\"], data['retweeted_status']['entities']['hashtags'])),\n",
    "                                'User_Id':data['retweeted_status']['user']['id_str'],\n",
    "                                'User_Name':data['retweeted_status']['user']['name'],\n",
    "                                'Retweet_Count': 1,\n",
    "                                'Likes_Count': data['retweeted_status']['favorite_count']\n",
    "                            }\n",
    "                            insert_tweet(tweet_info)\n",
    "                else:\n",
    "                    source_tweet_Id = 0\n",
    "\n",
    "                retweet_info = {\n",
    "                    'created_at':datetime.strftime(datetime.strptime(data['created_at'],'%a %b %d %H:%M:%S +0000 %Y'),'%Y-%m-%d %H:%M:%S'),\n",
    "                    'Tweet_Id':data['id_str'],\n",
    "                    'Text':data['text'],\n",
    "                    'Hashtag':list(map(lambda x: x[\"text\"], data['entities']['hashtags'])),\n",
    "                    'User_Id':data['user']['id_str'],\n",
    "                    'User_Name':data['user']['name'],\n",
    "                    'Source_tweet_Id':source_tweet_Id,\n",
    "                    'Retweet_Count': 0,\n",
    "                    'Likes_Count': data['favorite_count']\n",
    "                }\n",
    "                insert_tweet(retweet_info)\n",
    "\n",
    "            except:\n",
    "                continue\n"
   ]
  },
  {
   "cell_type": "code",
   "execution_count": null,
   "id": "5a7e1320",
   "metadata": {},
   "outputs": [],
   "source": []
  },
  {
   "cell_type": "code",
   "execution_count": 9,
   "id": "30a0bf95",
   "metadata": {},
   "outputs": [],
   "source": [
    " process_tweets('corona-out-3')"
   ]
  },
  {
   "cell_type": "code",
   "execution_count": 10,
   "id": "09c8c1e9",
   "metadata": {},
   "outputs": [
    {
     "data": {
      "text/plain": [
       "112014"
      ]
     },
     "execution_count": 10,
     "metadata": {},
     "output_type": "execute_result"
    }
   ],
   "source": [
    "tweets_collec.count_documents({})"
   ]
  },
  {
   "cell_type": "code",
   "execution_count": null,
   "id": "a16bedbe",
   "metadata": {},
   "outputs": [],
   "source": []
  }
 ],
 "metadata": {
  "kernelspec": {
   "display_name": "Python 3 (ipykernel)",
   "language": "python",
   "name": "python3"
  },
  "language_info": {
   "codemirror_mode": {
    "name": "ipython",
    "version": 3
   },
   "file_extension": ".py",
   "mimetype": "text/x-python",
   "name": "python",
   "nbconvert_exporter": "python",
   "pygments_lexer": "ipython3",
   "version": "3.11.5"
  }
 },
 "nbformat": 4,
 "nbformat_minor": 5
}
