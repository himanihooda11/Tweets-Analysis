{
 "cells": [
  {
   "cell_type": "code",
   "execution_count": 4,
   "id": "b3d45afa",
   "metadata": {},
   "outputs": [],
   "source": [
    "import pymongo\n",
    "import json\n",
    "from datetime import datetime\n",
    "import pandas as pd\n",
    "import nltk\n",
    "from nltk.corpus import stopwords\n"
   ]
  },
  {
   "cell_type": "code",
   "execution_count": 2,
   "id": "a1209563",
   "metadata": {},
   "outputs": [
    {
     "name": "stdout",
     "output_type": "stream",
     "text": [
      "Requirement already satisfied: nltk in c:\\users\\admin\\anaconda3\\lib\\site-packages (3.8.1)\n",
      "Requirement already satisfied: click in c:\\users\\admin\\anaconda3\\lib\\site-packages (from nltk) (8.0.4)\n",
      "Requirement already satisfied: joblib in c:\\users\\admin\\anaconda3\\lib\\site-packages (from nltk) (1.2.0)\n",
      "Requirement already satisfied: regex>=2021.8.3 in c:\\users\\admin\\anaconda3\\lib\\site-packages (from nltk) (2022.7.9)\n",
      "Requirement already satisfied: tqdm in c:\\users\\admin\\anaconda3\\lib\\site-packages (from nltk) (4.65.0)\n",
      "Requirement already satisfied: colorama in c:\\users\\admin\\anaconda3\\lib\\site-packages (from click->nltk) (0.4.6)\n",
      "Note: you may need to restart the kernel to use updated packages.\n"
     ]
    }
   ],
   "source": [
    "pip install nltk"
   ]
  },
  {
   "cell_type": "code",
   "execution_count": 5,
   "id": "172cf1de",
   "metadata": {},
   "outputs": [
    {
     "name": "stderr",
     "output_type": "stream",
     "text": [
      "[nltk_data] Downloading package stopwords to\n",
      "[nltk_data]     C:\\Users\\Admin\\AppData\\Roaming\\nltk_data...\n",
      "[nltk_data]   Unzipping corpora\\stopwords.zip.\n"
     ]
    },
    {
     "data": {
      "text/plain": [
       "True"
      ]
     },
     "execution_count": 5,
     "metadata": {},
     "output_type": "execute_result"
    }
   ],
   "source": [
    "from nltk.corpus import stopwords\n",
    "nltk.download('stopwords')\n"
   ]
  },
  {
   "cell_type": "code",
   "execution_count": 6,
   "id": "04c668a3",
   "metadata": {},
   "outputs": [],
   "source": [
    "client = pymongo.MongoClient(\"mongodb://localhost:27017/\") "
   ]
  },
  {
   "cell_type": "code",
   "execution_count": 9,
   "id": "1a28df2a",
   "metadata": {},
   "outputs": [],
   "source": [
    "db=client[\"Tweets\"]\n",
    "tweets_collec=db[\"Tweets_collection\"]"
   ]
  },
  {
   "cell_type": "code",
   "execution_count": 10,
   "id": "9a81a4a2",
   "metadata": {},
   "outputs": [
    {
     "data": {
      "text/plain": [
       "112014"
      ]
     },
     "execution_count": 10,
     "metadata": {},
     "output_type": "execute_result"
    }
   ],
   "source": [
    "tweets_collec.count_documents({})"
   ]
  },
  {
   "cell_type": "code",
   "execution_count": 11,
   "id": "79e8677c",
   "metadata": {},
   "outputs": [
    {
     "data": {
      "text/plain": [
       "['Tweets', 'admin', 'config', 'local', 'mydatabase']"
      ]
     },
     "execution_count": 11,
     "metadata": {},
     "output_type": "execute_result"
    }
   ],
   "source": [
    "client.list_database_names()"
   ]
  },
  {
   "cell_type": "code",
   "execution_count": 12,
   "id": "fcef0e30",
   "metadata": {},
   "outputs": [],
   "source": [
    "def find_tweet(tweet_id):\n",
    "    tweet = tweets_collec.find_one({\"Tweet_Id\": tweet_id})\n",
    "    if tweet:\n",
    "        return True\n",
    "    else:\n",
    "        return False"
   ]
  },
  {
   "cell_type": "code",
   "execution_count": 13,
   "id": "961eb498",
   "metadata": {},
   "outputs": [],
   "source": [
    "def retweet_counter(tweet_id):\n",
    "    tweets_collec.update_one({'Tweet_Id': tweet_id}, {\"$inc\": {'Retweet_Count': 1}})"
   ]
  },
  {
   "cell_type": "code",
   "execution_count": 14,
   "id": "7b529adb",
   "metadata": {},
   "outputs": [],
   "source": [
    "def add_retweet_list(tweet_Id, retweet_id):\n",
    "    tweets_collec.update_one({'Tweet_Id': tweet_Id}, {'$push': {'Retweet_Ids': retweet_id}})"
   ]
  },
  {
   "cell_type": "code",
   "execution_count": 15,
   "id": "8acdd0de",
   "metadata": {},
   "outputs": [],
   "source": [
    "# with open('corona-out-3', \"r\") as read_file:\n",
    "#     for line in read_file:\n",
    "#         try:\n",
    "#             data = json.loads(line)\n",
    "                     \n",
    "#             # check if tweet already exists\n",
    "#             if find_tweet(data['id_str']):\n",
    "#                 continue\n",
    "            \n",
    "#             # check for retweet\n",
    "#             if data['text'].startswith('RT'):\n",
    "#                 if data['retweeted_status']!=None:\n",
    "#                     source_tweet_Id = data['retweeted_status']['id_str']\n",
    "#                     if find_tweet(source_tweet_Id):\n",
    "#                         add_retweet_list(source_tweet_Id, data['id_str'])\n",
    "#                         retweet_counter(source_tweet_Id)\n",
    "#                     else:\n",
    "#                         tweet_info = {\n",
    "#                             'created_at':datetime.strftime(datetime.strptime(data['retweeted_status']['created_at'],'%a %b %d %H:%M:%S +0000 %Y'),'%Y-%m-%d %H:%M:%S'),\n",
    "#                             'Tweet_Id':data['retweeted_status']['id_str'],\n",
    "#                             'Text':data['retweeted_status']['text'],\n",
    "#                             'Hashtag':list(map(lambda x: x[\"text\"], data['retweeted_status']['entities']['hashtags'])),\n",
    "#                             'User_Id':data['retweeted_status']['user']['id_str'],\n",
    "#                             'Retweet_Count': 1,\n",
    "#                             'Retweet_Ids': [data['id_str']]\n",
    "#                         }\n",
    "#                         try:\n",
    "#                             tweets_collec.insert_one(tweet_info)\n",
    "#                         except Exception as e:\n",
    "#                             print(str(e))\n",
    "#             else:\n",
    "#                 source_tweet_Id = 0\n",
    "                \n",
    "#             retweet_info = {\n",
    "#                 'created_at':datetime.strftime(datetime.strptime(data['created_at'],'%a %b %d %H:%M:%S +0000 %Y'),'%Y-%m-%d %H:%M:%S'),\n",
    "#                 'Tweet_Id':data['id_str'],\n",
    "#                 'Text':data['text'],\n",
    "#                 'Hashtag':list(map(lambda x: x[\"text\"], data['entities']['hashtags'])),\n",
    "#                 'User_Id':data['user']['id_str'],\n",
    "#                 'Retweet_Count': 0,\n",
    "#                 'Source_tweet_Id':source_tweet_Id\n",
    "#             }\n",
    "#             try:\n",
    "#                 tweets_collec.insert_one(retweet_info)\n",
    "#             except Exception as e:\n",
    "#                 print(str(e))\n",
    "#         except:\n",
    "#             continue"
   ]
  },
  {
   "cell_type": "code",
   "execution_count": 16,
   "id": "1cedb1e9",
   "metadata": {},
   "outputs": [],
   "source": [
    "# with open('corona-out-3', \"r\") as read_file:\n",
    "#     for line in read_file:\n",
    "#         try:\n",
    "#             data = json.loads(line)\n",
    "                     \n",
    "#             # check if tweet already exists\n",
    "#             if find_tweet(data['id_str']):\n",
    "#                 continue\n",
    "            \n",
    "#             # check for retweet\n",
    "#             if data['text'].startswith('RT'):\n",
    "#                 if data['retweeted_status']!=None:\n",
    "#                     source_tweet_Id = data['retweeted_status']['id_str']\n",
    "#                     if find_tweet(source_tweet_Id):\n",
    "#                         add_retweet_list(source_tweet_Id, data['id_str'])\n",
    "#                         retweet_counter(source_tweet_Id)\n",
    "#                     else:\n",
    "#                         tweet_info = {\n",
    "#                             'created_at':datetime.strftime(datetime.strptime(data['retweeted_status']['created_at'],'%a %b %d %H:%M:%S +0000 %Y'),'%Y-%m-%d %H:%M:%S'),\n",
    "#                             'Tweet_Id':data['retweeted_status']['id_str'],\n",
    "#                             'Text':data['retweeted_status']['text'],\n",
    "#                             'Hashtag':list(map(lambda x: x[\"text\"], data['retweeted_status']['entities']['hashtags'])),\n",
    "#                             'User_Id':data['retweeted_status']['user']['id_str'],\n",
    "#                             'Retweet_Count': 1,\n",
    "#                             'Retweet_Ids': [data['id_str']]\n",
    "#                         }\n",
    "#                         try:\n",
    "#                             tweets_collec.insert_one(tweet_info)\n",
    "#                         except Exception as e:\n",
    "#                             print(str(e))\n",
    "#             else:\n",
    "#                 source_tweet_Id = 0\n",
    "                \n",
    "#             retweet_info = {\n",
    "#                 'created_at':datetime.strftime(datetime.strptime(data['created_at'],'%a %b %d %H:%M:%S +0000 %Y'),'%Y-%m-%d %H:%M:%S'),\n",
    "#                 'Tweet_Id':data['id_str'],\n",
    "#                 'Text':data['text'],\n",
    "#                 'Hashtag':list(map(lambda x: x[\"text\"], data['entities']['hashtags'])),\n",
    "#                 'User_Id':data['user']['id_str'],\n",
    "#                 'Retweet_Count': 0,\n",
    "#                 'Source_tweet_Id':source_tweet_Id\n",
    "#             }\n",
    "#             try:\n",
    "#                 tweets_collec.insert_one(retweet_info)\n",
    "#             except Exception as e:\n",
    "#                 print(str(e))\n",
    "#         except:\n",
    "#             continue"
   ]
  },
  {
   "cell_type": "code",
   "execution_count": 17,
   "id": "907d10d6",
   "metadata": {},
   "outputs": [],
   "source": [
    "def find_in_collection(tid):\n",
    "    record = None\n",
    "    record = db.tweets_coll.find({'TweetID': tid})\n",
    "    if record:\n",
    "        return True\n",
    "    return False"
   ]
  },
  {
   "cell_type": "code",
   "execution_count": 18,
   "id": "d7ca2e22",
   "metadata": {},
   "outputs": [
    {
     "data": {
      "text/plain": [
       "['Tweets', 'admin', 'config', 'local', 'mydatabase']"
      ]
     },
     "execution_count": 18,
     "metadata": {},
     "output_type": "execute_result"
    }
   ],
   "source": [
    "client.list_database_names()"
   ]
  },
  {
   "cell_type": "code",
   "execution_count": 19,
   "id": "476d0b0e",
   "metadata": {},
   "outputs": [
    {
     "data": {
      "text/plain": [
       "112014"
      ]
     },
     "execution_count": 19,
     "metadata": {},
     "output_type": "execute_result"
    }
   ],
   "source": [
    "tweets_collec.count_documents({})"
   ]
  },
  {
   "cell_type": "code",
   "execution_count": 21,
   "id": "258ff49a",
   "metadata": {},
   "outputs": [],
   "source": [
    "for t in db.Tweets_data.find().limit(5):\n",
    "    print(t)"
   ]
  },
  {
   "cell_type": "code",
   "execution_count": 22,
   "id": "4c226d9d",
   "metadata": {},
   "outputs": [
    {
     "data": {
      "text/plain": [
       "{'_id_': {'v': 2, 'key': [('_id', 1)]}}"
      ]
     },
     "execution_count": 22,
     "metadata": {},
     "output_type": "execute_result"
    }
   ],
   "source": [
    "tweets_collec.index_information()"
   ]
  },
  {
   "cell_type": "code",
   "execution_count": 23,
   "id": "50c7b4d7",
   "metadata": {},
   "outputs": [
    {
     "data": {
      "text/plain": [
       "'Text_text'"
      ]
     },
     "execution_count": 23,
     "metadata": {},
     "output_type": "execute_result"
    }
   ],
   "source": [
    "tweets_collec.create_index([(\"Text\", \"text\")])"
   ]
  },
  {
   "cell_type": "code",
   "execution_count": 24,
   "id": "8f1b6232",
   "metadata": {},
   "outputs": [],
   "source": [
    "def search_tweets(search_string):\n",
    "\n",
    "    stop_words = set(stopwords.words('english'))\n",
    "    search_words = search_string.split()\n",
    "    if len(set(search_words) - stop_words) == 0:\n",
    "        return \"Error\"\n",
    "    \n",
    "    search_string = '\"' + search_string + '\"'\n",
    "    # Search for tweets matching the search string\n",
    "    query = {'$text': {'$search': search_string}}\n",
    "    projection = {'_id': 0, 'Text': 1, 'ext': 1, 'created_at': 1, 'Retweet_Count': 1, 'favorite_count': 1, 'Hashtags': 1}\n",
    "    matching_tweets = list(tweets_collec.find(query).sort('created_at', -1).limit(5))\n",
    "\n",
    "\n",
    "    # Print number of matching tweets and return the results\n",
    "    print(f\"Number of matching tweets: {len(matching_tweets)}\")\n",
    "    return matching_tweets"
   ]
  },
  {
   "cell_type": "code",
   "execution_count": 25,
   "id": "30369e0a",
   "metadata": {},
   "outputs": [
    {
     "name": "stdout",
     "output_type": "stream",
     "text": [
      "Error: Please provide a non stop word\n"
     ]
    }
   ],
   "source": [
    "results = search_tweets('on the')\n",
    "\n",
    "if (results==\"Error\"):\n",
    "    print(\"Error: Please provide a non stop word\")\n",
    "else:\n",
    "    for tweet in results:\n",
    "        print(tweet)\n",
    "        print(\"------------------\")"
   ]
  },
  {
   "cell_type": "code",
   "execution_count": null,
   "id": "fde984ef",
   "metadata": {},
   "outputs": [],
   "source": []
  }
 ],
 "metadata": {
  "kernelspec": {
   "display_name": "Python 3 (ipykernel)",
   "language": "python",
   "name": "python3"
  },
  "language_info": {
   "codemirror_mode": {
    "name": "ipython",
    "version": 3
   },
   "file_extension": ".py",
   "mimetype": "text/x-python",
   "name": "python",
   "nbconvert_exporter": "python",
   "pygments_lexer": "ipython3",
   "version": "3.11.5"
  }
 },
 "nbformat": 4,
 "nbformat_minor": 5
}
