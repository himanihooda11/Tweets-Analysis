{
 "cells": [
  {
   "cell_type": "code",
   "execution_count": null,
   "id": "31c38733",
   "metadata": {},
   "outputs": [],
   "source": [
    "## Data Analysis File "
   ]
  },
  {
   "cell_type": "code",
   "execution_count": 1,
   "id": "711cd7e6",
   "metadata": {},
   "outputs": [],
   "source": [
    "import pandas as pd\n",
    "import matplotlib.pyplot as plt\n",
    "import seaborn as sns\n",
    "import numpy as np\n",
    "from textblob import TextBlob\n",
    "from wordcloud import WordCloud\n",
    "from nltk.corpus import stopwords\n",
    "from collections import Counter\n",
    "import re"
   ]
  },
  {
   "cell_type": "code",
   "execution_count": 2,
   "id": "39c0c9da",
   "metadata": {},
   "outputs": [],
   "source": [
    "#data1=pd.read_json(\"corona-out-2\",lines=True)\n",
    "twitter_data=pd.read_json(\"corona-out-3\",lines=True)"
   ]
  },
  {
   "cell_type": "code",
   "execution_count": 3,
   "id": "db79fced",
   "metadata": {},
   "outputs": [
    {
     "data": {
      "text/html": [
       "<div>\n",
       "<style scoped>\n",
       "    .dataframe tbody tr th:only-of-type {\n",
       "        vertical-align: middle;\n",
       "    }\n",
       "\n",
       "    .dataframe tbody tr th {\n",
       "        vertical-align: top;\n",
       "    }\n",
       "\n",
       "    .dataframe thead th {\n",
       "        text-align: right;\n",
       "    }\n",
       "</style>\n",
       "<table border=\"1\" class=\"dataframe\">\n",
       "  <thead>\n",
       "    <tr style=\"text-align: right;\">\n",
       "      <th></th>\n",
       "      <th>created_at</th>\n",
       "      <th>id</th>\n",
       "      <th>id_str</th>\n",
       "      <th>text</th>\n",
       "      <th>display_text_range</th>\n",
       "      <th>source</th>\n",
       "      <th>truncated</th>\n",
       "      <th>in_reply_to_status_id</th>\n",
       "      <th>in_reply_to_status_id_str</th>\n",
       "      <th>in_reply_to_user_id</th>\n",
       "      <th>...</th>\n",
       "      <th>filter_level</th>\n",
       "      <th>lang</th>\n",
       "      <th>timestamp_ms</th>\n",
       "      <th>retweeted_status</th>\n",
       "      <th>quoted_status_id</th>\n",
       "      <th>quoted_status_id_str</th>\n",
       "      <th>quoted_status</th>\n",
       "      <th>quoted_status_permalink</th>\n",
       "      <th>extended_tweet</th>\n",
       "      <th>withheld_in_countries</th>\n",
       "    </tr>\n",
       "  </thead>\n",
       "  <tbody>\n",
       "    <tr>\n",
       "      <th>0</th>\n",
       "      <td>2020-04-25 12:21:41+00:00</td>\n",
       "      <td>1254022770679320576</td>\n",
       "      <td>1254022770679320576</td>\n",
       "      <td>É isto, ou vou morrer sem ar ou com o corona h...</td>\n",
       "      <td>[0, 44]</td>\n",
       "      <td>&lt;a href=\"http://twitter.com/download/android\" ...</td>\n",
       "      <td>False</td>\n",
       "      <td>NaN</td>\n",
       "      <td>NaN</td>\n",
       "      <td>NaN</td>\n",
       "      <td>...</td>\n",
       "      <td>low</td>\n",
       "      <td>pt</td>\n",
       "      <td>2020-04-25 12:21:41.803</td>\n",
       "      <td>NaN</td>\n",
       "      <td>NaN</td>\n",
       "      <td>NaN</td>\n",
       "      <td>NaN</td>\n",
       "      <td>NaN</td>\n",
       "      <td>NaN</td>\n",
       "      <td>NaN</td>\n",
       "    </tr>\n",
       "    <tr>\n",
       "      <th>1</th>\n",
       "      <td>2020-04-25 12:21:41+00:00</td>\n",
       "      <td>1254022770746372096</td>\n",
       "      <td>1254022770746372096</td>\n",
       "      <td>Schöne Runde mit dem Rennrad ✌️\\n#sport #coron...</td>\n",
       "      <td>[0, 46]</td>\n",
       "      <td>&lt;a href=\"http://twitter.com/download/iphone\" r...</td>\n",
       "      <td>False</td>\n",
       "      <td>NaN</td>\n",
       "      <td>NaN</td>\n",
       "      <td>NaN</td>\n",
       "      <td>...</td>\n",
       "      <td>low</td>\n",
       "      <td>de</td>\n",
       "      <td>2020-04-25 12:21:41.819</td>\n",
       "      <td>NaN</td>\n",
       "      <td>NaN</td>\n",
       "      <td>NaN</td>\n",
       "      <td>NaN</td>\n",
       "      <td>NaN</td>\n",
       "      <td>NaN</td>\n",
       "      <td>NaN</td>\n",
       "    </tr>\n",
       "    <tr>\n",
       "      <th>2</th>\n",
       "      <td>2020-04-25 12:21:42+00:00</td>\n",
       "      <td>1254022772558368768</td>\n",
       "      <td>1254022772558368768</td>\n",
       "      <td>RT @BJP4India: India’s war with Corona is ongo...</td>\n",
       "      <td>NaN</td>\n",
       "      <td>&lt;a href=\"http://twitter.com/download/android\" ...</td>\n",
       "      <td>False</td>\n",
       "      <td>NaN</td>\n",
       "      <td>NaN</td>\n",
       "      <td>NaN</td>\n",
       "      <td>...</td>\n",
       "      <td>low</td>\n",
       "      <td>en</td>\n",
       "      <td>2020-04-25 12:21:42.251</td>\n",
       "      <td>{'created_at': 'Sat Apr 25 07:30:12 +0000 2020...</td>\n",
       "      <td>NaN</td>\n",
       "      <td>NaN</td>\n",
       "      <td>NaN</td>\n",
       "      <td>NaN</td>\n",
       "      <td>NaN</td>\n",
       "      <td>NaN</td>\n",
       "    </tr>\n",
       "    <tr>\n",
       "      <th>3</th>\n",
       "      <td>2020-04-25 12:21:42+00:00</td>\n",
       "      <td>1254022772575043586</td>\n",
       "      <td>1254022772575043584</td>\n",
       "      <td>Was sollen 150 Euro Computerzuschuss bringen? ...</td>\n",
       "      <td>NaN</td>\n",
       "      <td>&lt;a href=\"https://mobile.twitter.com\" rel=\"nofo...</td>\n",
       "      <td>True</td>\n",
       "      <td>NaN</td>\n",
       "      <td>NaN</td>\n",
       "      <td>NaN</td>\n",
       "      <td>...</td>\n",
       "      <td>low</td>\n",
       "      <td>de</td>\n",
       "      <td>2020-04-25 12:21:42.255</td>\n",
       "      <td>NaN</td>\n",
       "      <td>1.254016e+18</td>\n",
       "      <td>1.254016e+18</td>\n",
       "      <td>{'created_at': 'Sat Apr 25 11:56:31 +0000 2020...</td>\n",
       "      <td>{'url': 'https://t.co/xn4jgGqfoY', 'expanded':...</td>\n",
       "      <td>{'full_text': 'Was sollen 150 Euro Computerzus...</td>\n",
       "      <td>NaN</td>\n",
       "    </tr>\n",
       "    <tr>\n",
       "      <th>4</th>\n",
       "      <td>2020-04-25 12:21:42+00:00</td>\n",
       "      <td>1254022772877131777</td>\n",
       "      <td>1254022772877131776</td>\n",
       "      <td>RT @schrodingerk42: @ozkan_yalim @DurmusYillma...</td>\n",
       "      <td>NaN</td>\n",
       "      <td>&lt;a href=\"http://twitter.com/download/android\" ...</td>\n",
       "      <td>False</td>\n",
       "      <td>NaN</td>\n",
       "      <td>NaN</td>\n",
       "      <td>NaN</td>\n",
       "      <td>...</td>\n",
       "      <td>low</td>\n",
       "      <td>tr</td>\n",
       "      <td>2020-04-25 12:21:42.327</td>\n",
       "      <td>{'created_at': 'Tue Apr 21 12:34:00 +0000 2020...</td>\n",
       "      <td>NaN</td>\n",
       "      <td>NaN</td>\n",
       "      <td>NaN</td>\n",
       "      <td>NaN</td>\n",
       "      <td>NaN</td>\n",
       "      <td>NaN</td>\n",
       "    </tr>\n",
       "  </tbody>\n",
       "</table>\n",
       "<p>5 rows × 37 columns</p>\n",
       "</div>"
      ],
      "text/plain": [
       "                 created_at                   id               id_str  \\\n",
       "0 2020-04-25 12:21:41+00:00  1254022770679320576  1254022770679320576   \n",
       "1 2020-04-25 12:21:41+00:00  1254022770746372096  1254022770746372096   \n",
       "2 2020-04-25 12:21:42+00:00  1254022772558368768  1254022772558368768   \n",
       "3 2020-04-25 12:21:42+00:00  1254022772575043586  1254022772575043584   \n",
       "4 2020-04-25 12:21:42+00:00  1254022772877131777  1254022772877131776   \n",
       "\n",
       "                                                text display_text_range  \\\n",
       "0  É isto, ou vou morrer sem ar ou com o corona h...            [0, 44]   \n",
       "1  Schöne Runde mit dem Rennrad ✌️\\n#sport #coron...            [0, 46]   \n",
       "2  RT @BJP4India: India’s war with Corona is ongo...                NaN   \n",
       "3  Was sollen 150 Euro Computerzuschuss bringen? ...                NaN   \n",
       "4  RT @schrodingerk42: @ozkan_yalim @DurmusYillma...                NaN   \n",
       "\n",
       "                                              source  truncated  \\\n",
       "0  <a href=\"http://twitter.com/download/android\" ...      False   \n",
       "1  <a href=\"http://twitter.com/download/iphone\" r...      False   \n",
       "2  <a href=\"http://twitter.com/download/android\" ...      False   \n",
       "3  <a href=\"https://mobile.twitter.com\" rel=\"nofo...       True   \n",
       "4  <a href=\"http://twitter.com/download/android\" ...      False   \n",
       "\n",
       "   in_reply_to_status_id  in_reply_to_status_id_str  in_reply_to_user_id  ...  \\\n",
       "0                    NaN                        NaN                  NaN  ...   \n",
       "1                    NaN                        NaN                  NaN  ...   \n",
       "2                    NaN                        NaN                  NaN  ...   \n",
       "3                    NaN                        NaN                  NaN  ...   \n",
       "4                    NaN                        NaN                  NaN  ...   \n",
       "\n",
       "   filter_level lang            timestamp_ms  \\\n",
       "0           low   pt 2020-04-25 12:21:41.803   \n",
       "1           low   de 2020-04-25 12:21:41.819   \n",
       "2           low   en 2020-04-25 12:21:42.251   \n",
       "3           low   de 2020-04-25 12:21:42.255   \n",
       "4           low   tr 2020-04-25 12:21:42.327   \n",
       "\n",
       "                                    retweeted_status quoted_status_id  \\\n",
       "0                                                NaN              NaN   \n",
       "1                                                NaN              NaN   \n",
       "2  {'created_at': 'Sat Apr 25 07:30:12 +0000 2020...              NaN   \n",
       "3                                                NaN     1.254016e+18   \n",
       "4  {'created_at': 'Tue Apr 21 12:34:00 +0000 2020...              NaN   \n",
       "\n",
       "  quoted_status_id_str                                      quoted_status  \\\n",
       "0                  NaN                                                NaN   \n",
       "1                  NaN                                                NaN   \n",
       "2                  NaN                                                NaN   \n",
       "3         1.254016e+18  {'created_at': 'Sat Apr 25 11:56:31 +0000 2020...   \n",
       "4                  NaN                                                NaN   \n",
       "\n",
       "                             quoted_status_permalink  \\\n",
       "0                                                NaN   \n",
       "1                                                NaN   \n",
       "2                                                NaN   \n",
       "3  {'url': 'https://t.co/xn4jgGqfoY', 'expanded':...   \n",
       "4                                                NaN   \n",
       "\n",
       "                                      extended_tweet  withheld_in_countries  \n",
       "0                                                NaN                    NaN  \n",
       "1                                                NaN                    NaN  \n",
       "2                                                NaN                    NaN  \n",
       "3  {'full_text': 'Was sollen 150 Euro Computerzus...                    NaN  \n",
       "4                                                NaN                    NaN  \n",
       "\n",
       "[5 rows x 37 columns]"
      ]
     },
     "execution_count": 3,
     "metadata": {},
     "output_type": "execute_result"
    }
   ],
   "source": [
    "twitter_data.head()"
   ]
  },
  {
   "cell_type": "code",
   "execution_count": 12,
   "id": "fb48f7dd",
   "metadata": {},
   "outputs": [
    {
     "name": "stdout",
     "output_type": "stream",
     "text": [
      "<class 'pandas.core.frame.DataFrame'>\n",
      "RangeIndex: 101916 entries, 0 to 101915\n",
      "Data columns (total 39 columns):\n",
      " #   Column                     Non-Null Count   Dtype              \n",
      "---  ------                     --------------   -----              \n",
      " 0   created_at                 101916 non-null  datetime64[ns, UTC]\n",
      " 1   id                         101916 non-null  int64              \n",
      " 2   id_str                     101916 non-null  int64              \n",
      " 3   text                       101916 non-null  object             \n",
      " 4   display_text_range         18124 non-null   object             \n",
      " 5   source                     101916 non-null  object             \n",
      " 6   truncated                  101916 non-null  bool               \n",
      " 7   in_reply_to_status_id      13610 non-null   float64            \n",
      " 8   in_reply_to_status_id_str  13610 non-null   float64            \n",
      " 9   in_reply_to_user_id        14855 non-null   float64            \n",
      " 10  in_reply_to_user_id_str    14855 non-null   float64            \n",
      " 11  in_reply_to_screen_name    14855 non-null   object             \n",
      " 12  user                       101916 non-null  object             \n",
      " 13  geo                        77 non-null      object             \n",
      " 14  coordinates                77 non-null      object             \n",
      " 15  place                      1371 non-null    object             \n",
      " 16  contributors               0 non-null       float64            \n",
      " 17  is_quote_status            101916 non-null  bool               \n",
      " 18  quote_count                101916 non-null  int64              \n",
      " 19  reply_count                101916 non-null  int64              \n",
      " 20  retweet_count              101916 non-null  int64              \n",
      " 21  favorite_count             101916 non-null  int64              \n",
      " 22  entities                   101916 non-null  object             \n",
      " 23  extended_entities          7267 non-null    object             \n",
      " 24  favorited                  101916 non-null  bool               \n",
      " 25  retweeted                  101916 non-null  bool               \n",
      " 26  possibly_sensitive         27433 non-null   float64            \n",
      " 27  filter_level               101916 non-null  object             \n",
      " 28  lang                       101916 non-null  object             \n",
      " 29  timestamp_ms               101916 non-null  datetime64[ns]     \n",
      " 30  retweeted_status           61101 non-null   object             \n",
      " 31  quoted_status_id           16129 non-null   float64            \n",
      " 32  quoted_status_id_str       16129 non-null   float64            \n",
      " 33  quoted_status              16123 non-null   object             \n",
      " 34  quoted_status_permalink    16123 non-null   object             \n",
      " 35  extended_tweet             17760 non-null   object             \n",
      " 36  withheld_in_countries      46 non-null      object             \n",
      " 37  user_id                    101916 non-null  int64              \n",
      " 38  content_category           101916 non-null  object             \n",
      "dtypes: bool(4), datetime64[ns, UTC](1), datetime64[ns](1), float64(8), int64(7), object(18)\n",
      "memory usage: 27.6+ MB\n"
     ]
    }
   ],
   "source": [
    "twitter_data.info()"
   ]
  },
  {
   "cell_type": "markdown",
   "id": "28b6e198",
   "metadata": {},
   "source": [
    "## Total number of unique users"
   ]
  },
  {
   "cell_type": "code",
   "execution_count": 9,
   "id": "db07a55f",
   "metadata": {},
   "outputs": [
    {
     "data": {
      "text/plain": [
       "80943"
      ]
     },
     "execution_count": 9,
     "metadata": {},
     "output_type": "execute_result"
    }
   ],
   "source": [
    "twitter_data[\"user_id\"] = twitter_data[\"user\"].apply(lambda x: x[\"id\"])\n",
    "\n",
    "num_users = len(twitter_data[\"user_id\"].unique())\n",
    "\n",
    "num_users"
   ]
  },
  {
   "cell_type": "markdown",
   "id": "c85f2ee8",
   "metadata": {},
   "source": [
    "## Content Analysis"
   ]
  },
  {
   "cell_type": "code",
   "execution_count": 11,
   "id": "70a235c2",
   "metadata": {},
   "outputs": [
    {
     "name": "stdout",
     "output_type": "stream",
     "text": [
      "Content Category Counts:\n",
      "Other            90914\n",
      "Politics          4813\n",
      "News              4097\n",
      "Health            1122\n",
      "Entertainment      447\n",
      "Sports             365\n",
      "Technology         158\n",
      "Name: content_category, dtype: int64\n"
     ]
    }
   ],
   "source": [
    "# Define content categories and their corresponding keywords\n",
    "content_categories = {\n",
    "    'News': ['breaking', 'news', 'update', 'headline'],\n",
    "    'Sports': ['sports', 'game', 'score', 'match'],\n",
    "    'Entertainment': ['movie', 'music', 'entertainment', 'celebrity'],\n",
    "    'Politics': ['politics', 'election', 'government', 'president'],\n",
    "    'Technology': ['tech', 'technology', 'gadget', 'innovation'],\n",
    "    'Health': ['health', 'wellness', 'medical', 'fitness']\n",
    "}\n",
    "\n",
    "# Function to categorize tweets into content categories\n",
    "def categorize_tweet_content(text):\n",
    "    for category, keywords in content_categories.items():\n",
    "        for keyword in keywords:\n",
    "            if keyword in text.lower():\n",
    "                return category\n",
    "    return 'Other'  # If tweet doesn't match any category\n",
    "\n",
    "# Apply categorization function to each tweet\n",
    "twitter_data['content_category'] = twitter_data['text'].apply(categorize_tweet_content)\n",
    "\n",
    "# Count the number of tweets in each content category\n",
    "category_counts = twitter_data['content_category'].value_counts()\n",
    "\n",
    "# Print the counts of tweets in each content category\n",
    "print(\"Content Category Counts:\")\n",
    "print(category_counts)\n"
   ]
  },
  {
   "cell_type": "markdown",
   "id": "cdb9af4c",
   "metadata": {},
   "source": [
    "## Displaying the top 5 most common hashtags"
   ]
  },
  {
   "cell_type": "code",
   "execution_count": 13,
   "id": "cbce3901",
   "metadata": {},
   "outputs": [
    {
     "name": "stdout",
     "output_type": "stream",
     "text": [
      "corona         6096\n",
      "25aprile       1557\n",
      "mattarella     1507\n",
      "coronavirus    1317\n",
      "covid19        1256\n",
      "Name: entities, dtype: int64\n"
     ]
    }
   ],
   "source": [
    "\n",
    "hashtags = twitter_data[\"entities\"].apply(\n",
    "    lambda x: [tag[\"text\"].lower() for tag in x[\"hashtags\"]])\n",
    "\n",
    "hashtags = hashtags.explode()\n",
    "print(hashtags.value_counts().head())"
   ]
  },
  {
   "cell_type": "markdown",
   "id": "8d05477d",
   "metadata": {},
   "source": [
    "## Sentiment analysis ( 1 stand for positive and -1 for negative text)"
   ]
  },
  {
   "cell_type": "code",
   "execution_count": 14,
   "id": "a6e4a289",
   "metadata": {},
   "outputs": [
    {
     "name": "stdout",
     "output_type": "stream",
     "text": [
      "Average Sentiment Polarity: 0.024726337930912782\n"
     ]
    }
   ],
   "source": [
    "def get_tweet_sentiment(tweet):\n",
    "    analysis = TextBlob(tweet)\n",
    "    return analysis.sentiment.polarity\n",
    "\n",
    "# Apply the function to the tweet text column\n",
    "twitter_data['sentiment_polarity'] = twitter_data['text'].apply(get_tweet_sentiment)\n",
    "\n",
    "# Print the average sentiment polarity of the tweets\n",
    "print('Average Sentiment Polarity:', twitter_data['sentiment_polarity'].mean())"
   ]
  },
  {
   "cell_type": "markdown",
   "id": "15b01a1b",
   "metadata": {},
   "source": [
    "## top 10 most common languages used"
   ]
  },
  {
   "cell_type": "code",
   "execution_count": 15,
   "id": "6e775789",
   "metadata": {},
   "outputs": [
    {
     "data": {
      "image/png": "[encoded data removed]",
      "text/plain": [
       "<Figure size 720x360 with 1 Axes>"
      ]
     },
     "metadata": {
      "needs_background": "light"
     },
     "output_type": "display_data"
    }
   ],
   "source": [
    "language_count = twitter_data[\"lang\"].value_counts().head(10)\n",
    "\n",
    "fig, ax = plt.subplots(figsize=(10, 5))\n",
    "ax.bar(language_count.index, language_count.values)\n",
    "ax.set_title(\"Language Count\")\n",
    "ax.set_xlabel(\"Language\")\n",
    "ax.set_ylabel(\"Count\")\n",
    "\n",
    "plt.show()"
   ]
  },
  {
   "cell_type": "markdown",
   "id": "bb940212",
   "metadata": {},
   "source": [
    "## URL analysis"
   ]
  },
  {
   "cell_type": "code",
   "execution_count": 16,
   "id": "a4e56b9e",
   "metadata": {},
   "outputs": [
    {
     "name": "stdout",
     "output_type": "stream",
     "text": [
      "Top Shared Domains:\n",
      "t.co                 28054\n",
      "82.221.129.208           2\n",
      "…                        1\n",
      "t.…                      1\n",
      "t.co…                    1\n",
      "t.c…                     1\n",
      "t…                       1\n",
      "hot.grid.id              1\n",
      "twitter.com              1\n",
      "www.covaimail.com        1\n",
      "dtype: int64\n"
     ]
    }
   ],
   "source": [
    "# Function to extract URLs from tweet text\n",
    "def extract_urls(text):\n",
    "    return re.findall(r'(https?://\\S+)', text)\n",
    "\n",
    "# Extract URLs from all tweets\n",
    "all_tweets_urls = twitter_data['text'].apply(extract_urls).explode().dropna().unique()\n",
    "\n",
    "# Function to parse domain from URL\n",
    "def parse_domain(url):\n",
    "    return urlparse(url).netloc\n",
    "\n",
    "# Parse domains from URLs\n",
    "all_domains = [parse_domain(url) for url in all_tweets_urls]\n",
    "\n",
    "# Count the occurrences of each domain\n",
    "domain_counts = pd.Series(all_domains).value_counts()\n",
    "\n",
    "# Print the top N most shared domains\n",
    "top_shared_domains = domain_counts.head(10)  # Change 10 to any desired number\n",
    "print(\"Top Shared Domains:\")\n",
    "print(top_shared_domains)\n"
   ]
  },
  {
   "cell_type": "markdown",
   "id": "901ac09a",
   "metadata": {},
   "source": [
    "## Number of tweets in both the days for which the data has been given to us "
   ]
  },
  {
   "cell_type": "code",
   "execution_count": 21,
   "id": "d9205bb2",
   "metadata": {},
   "outputs": [
    {
     "name": "stdout",
     "output_type": "stream",
     "text": [
      "created_at\n",
      "2020-04-25    101916\n",
      "dtype: int64\n"
     ]
    }
   ],
   "source": [
    "tweets_per_day = twitter_data.groupby(twitter_data[\"created_at\"].dt.date).size()\n",
    "print(tweets_per_day)"
   ]
  },
  {
   "cell_type": "markdown",
   "id": "06743b23",
   "metadata": {},
   "source": [
    "## Most common words in a tweet"
   ]
  },
  {
   "cell_type": "code",
   "execution_count": 17,
   "id": "129d55b8",
   "metadata": {},
   "outputs": [
    {
     "name": "stdout",
     "output_type": "stream",
     "text": [
      "[('rt', 61441), ('corona', 60901), ('t', 45204), ('https', 42383), ('co', 41446), ('the', 24597), ('in', 17576), ('to', 17001), ('a', 15502), ('क', 14703)]\n"
     ]
    }
   ],
   "source": [
    "# Define a function to extract words from a tweet\n",
    "def extract_words(text):\n",
    "    words = re.findall(r'\\w+', text.lower())\n",
    "    return Counter(words)\n",
    "\n",
    "# Extract the words from all the tweets\n",
    "words = Counter()\n",
    "for tweet in twitter_data[\"text\"]:\n",
    "    words.update(extract_words(tweet))\n",
    "\n",
    "# Print the top 10 most common words\n",
    "print(words.most_common(10))"
   ]
  },
  {
   "cell_type": "markdown",
   "id": "df911fad",
   "metadata": {},
   "source": [
    "## Categorizing each tweet"
   ]
  },
  {
   "cell_type": "code",
   "execution_count": 22,
   "id": "d2804723",
   "metadata": {},
   "outputs": [],
   "source": [
    "def categorize_tweet(row):\n",
    "    if isinstance(row['retweeted_status'], dict):\n",
    "        return 'Retweet'\n",
    "    elif isinstance(row['quoted_status'], dict):\n",
    "        return 'Quoted Tweet'\n",
    "    else:\n",
    "        return 'Original Tweet'\n",
    "\n",
    "# Apply the categorize_tweet function to each row of the DataFrame\n",
    "twitter_data['tweet_type'] = twitter_data.apply(categorize_tweet, axis=1)"
   ]
  },
  {
   "cell_type": "markdown",
   "id": "3bd8ea21",
   "metadata": {},
   "source": [
    "## Number of tweets for each tweet type"
   ]
  },
  {
   "cell_type": "code",
   "execution_count": 49,
   "id": "fdccbd7c",
   "metadata": {},
   "outputs": [
    {
     "data": {
      "image/png": "[encoded data removed]",
      "text/plain": [
       "<Figure size 640x480 with 1 Axes>"
      ]
     },
     "metadata": {},
     "output_type": "display_data"
    }
   ],
   "source": [
    "tweet_counts = twitter_data['tweet_type'].value_counts()\n",
    "\n",
    "# Create a pie chart showing the proportion of each tweet type\n",
    "plt.pie(tweet_counts, labels=tweet_counts.index, autopct='%1.1f%%', startangle=90)\n",
    "\n",
    "# Add a title\n",
    "plt.title('Proportion of Tweet Types')\n",
    "\n",
    "# Display the plot\n",
    "plt.show()"
   ]
  },
  {
   "cell_type": "code",
   "execution_count": 19,
   "id": "b24084ad",
   "metadata": {},
   "outputs": [
    {
     "data": {
      "image/png": "[encoded data removed]",
      "text/plain": [
       "<Figure size 432x288 with 1 Axes>"
      ]
     },
     "metadata": {
      "needs_background": "light"
     },
     "output_type": "display_data"
    }
   ],
   "source": [
    "import matplotlib.pyplot as plt\n",
    "\n",
    "# Count the number of tweets for each tweet type\n",
    "tweet_counts = twitter_data['tweet_type'].value_counts()\n",
    "\n",
    "# Create a bar plot showing the proportion of each tweet type\n",
    "tweet_counts.plot(kind='bar', color='skyblue')\n",
    "\n",
    "# Add labels and title\n",
    "plt.xlabel('Tweet Type')\n",
    "plt.ylabel('Number of Tweets')\n",
    "plt.title('Number of Tweets by Type')\n",
    "\n",
    "# Rotate x-axis labels for better readability\n",
    "plt.xticks(rotation=45)\n",
    "\n",
    "# Display the plot\n",
    "plt.show()\n"
   ]
  },
  {
   "cell_type": "markdown",
   "id": "1598a7c8",
   "metadata": {},
   "source": [
    "##  The top 10 most mentioned users in the tweets."
   ]
  },
  {
   "cell_type": "code",
   "execution_count": 23,
   "id": "cb5f8499",
   "metadata": {},
   "outputs": [],
   "source": [
    "# extract usernames from the text column using regex\n",
    "usernames = twitter_data['text'].apply(lambda x: re.findall(r'(?<!\\w)@\\w+', x))"
   ]
  },
  {
   "cell_type": "code",
   "execution_count": 24,
   "id": "91ca7729",
   "metadata": {},
   "outputs": [],
   "source": [
    "# flatten the list of usernames and count their frequency\n",
    "mentions_count = pd.Series([u for sublist in usernames for u in sublist]).value_counts()"
   ]
  },
  {
   "cell_type": "code",
   "execution_count": 25,
   "id": "2d5c9fed",
   "metadata": {},
   "outputs": [
    {
     "name": "stdout",
     "output_type": "stream",
     "text": [
      "@brithume           1496\n",
      "@Quirinale          1465\n",
      "@benwikler           987\n",
      "@oxfara              846\n",
      "@yalim_funda         734\n",
      "@realDonaldTrump     700\n",
      "@narendramodi        636\n",
      "@aajtak              625\n",
      "@CrazyinRussia       587\n",
      "@IngrahamAngle       559\n",
      "dtype: int64\n"
     ]
    }
   ],
   "source": [
    "# get the top 10 most mentioned users\n",
    "top_mentions = mentions_count.head(10)\n",
    "\n",
    "# print the top 10 most mentioned users\n",
    "print(top_mentions)"
   ]
  }
 ],
 "metadata": {
  "kernelspec": {
   "display_name": "Python 3 (ipykernel)",
   "language": "python",
   "name": "python3"
  },
  "language_info": {
   "codemirror_mode": {
    "name": "ipython",
    "version": 3
   },
   "file_extension": ".py",
   "mimetype": "text/x-python",
   "name": "python",
   "nbconvert_exporter": "python",
   "pygments_lexer": "ipython3",
   "version": "3.9.4"
  }
 },
 "nbformat": 4,
 "nbformat_minor": 5
}
