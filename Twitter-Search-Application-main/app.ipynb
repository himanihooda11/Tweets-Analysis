{
 "cells": [
  {
   "cell_type": "code",
   "execution_count": 1,
   "id": "6d3c4820",
   "metadata": {},
   "outputs": [],
   "source": [
    "from flask import Flask, redirect, url_for, render_template, request\n",
    "import pymongo\n",
    "import json\n",
    "import time\n",
    "from datetime import datetime\n",
    "import mysql.connector as cnx\n",
    "import pickle\n",
    "from nltk.corpus import stopwords\n",
    "import os\n"
   ]
  },
  {
   "cell_type": "code",
   "execution_count": 2,
   "id": "54dad40e",
   "metadata": {},
   "outputs": [],
   "source": [
    "# connect to mysql server\n",
    "mydb = cnx.connect(\n",
    "  host=\"localhost\",\n",
    "  user=\"root\",\n",
    "  password=\"Adarsh20@\",\n",
    "  database=\"mydatabase\"\n",
    ")\n",
    "\n",
    "mycursor = mydb.cursor(buffered=True)"
   ]
  },
  {
   "cell_type": "code",
   "execution_count": 3,
   "id": "5d4e3964",
   "metadata": {},
   "outputs": [],
   "source": [
    "#connect to mongodb\n",
    "client = pymongo.MongoClient(\"mongodb://localhost:27017/\") \n",
    "db = client[\"Tweets\"]\n",
    "tweets_collec = db[\"Tweets_collection\"]"
   ]
  },
  {
   "cell_type": "code",
   "execution_count": 4,
   "id": "7b34d0c6",
   "metadata": {},
   "outputs": [],
   "source": [
    "class Cache:\n",
    "    def __init__(self, max_size=15000, evict_strategy='least_accessed', checkpoint_interval=30, ttl=None):\n",
    "        self.max_size = max_size\n",
    "        self.evict_strategy = evict_strategy\n",
    "        self.checkpoint_interval = checkpoint_interval\n",
    "        self.ttl = ttl\n",
    "        self.cache = {}\n",
    "        self.access_count = {}\n",
    "        self.last_checkpoint = time.time()\n",
    "    \n",
    "        if os.path.exists('cache.checkpoint'):\n",
    "            self.load_from_checkpoint('cache.checkpoint')\n",
    "\n",
    "    def load_from_checkpoint(self, checkpoint_file):\n",
    "        with open(checkpoint_file, 'rb') as f:\n",
    "            self.cache, self.access_count = pickle.load(f)\n",
    "\n",
    "    def save_to_checkpoint(self, checkpoint_file):\n",
    "        with open(checkpoint_file, 'wb') as f:\n",
    "            pickle.dump((self.cache, self.access_count), f)\n",
    "            \n",
    "    def get(self, key):\n",
    "        \n",
    "        if key[0].isdigit() or key.startswith('#'):\n",
    "            if key not in self.cache:\n",
    "                return None\n",
    "            similar_keys = [key]\n",
    "            \n",
    "        else:\n",
    "            similar_keys = []\n",
    "            for k in self.cache:\n",
    "                if key in k:\n",
    "                    similar_keys.append(k)\n",
    "\n",
    "            if len(similar_keys) == 0:\n",
    "                return None\n",
    "        \n",
    "        if self.ttl is not None and (time.time() - self.cache[key]['timestamp']) > self.ttl:\n",
    "            del self.cache[key]\n",
    "            del self.access_count[key]\n",
    "            return None\n",
    "        \n",
    "        for i in similar_keys:\n",
    "            self.access_count[i] += 1\n",
    "            \n",
    "            if self.evict_strategy == 'least_accessed':\n",
    "                least_accessed_key = min(self.access_count, key=self.access_count.get)\n",
    "                if len(self.cache) > self.max_size and key != least_accessed_key:\n",
    "                    del self.cache[least_accessed_key]\n",
    "                    del self.access_count[least_accessed_key]\n",
    "                \n",
    "        return [self.cache[k]['value'] for k in similar_keys]\n",
    "\n",
    "    def put(self, key, value):\n",
    "        if not key.startswith('#'):\n",
    "            key = key.lower()\n",
    "        self.cache[key] = {'value': value, 'timestamp': time.time()}\n",
    "        self.access_count[key] = 0\n",
    "        if len(self.cache) > self.max_size:\n",
    "            if self.evict_strategy == 'least_accessed':\n",
    "                least_accessed_key = min(self.access_count, key=self.access_count.get)\n",
    "                del self.cache[least_accessed_key]\n",
    "                del self.access_count[least_accessed_key]\n",
    "            elif self.evict_strategy == 'oldest':\n",
    "                oldest_key = min(self.cache, key=lambda k: self.cache[k]['timestamp'])\n",
    "                del self.cache[oldest_key]\n",
    "                del self.access_count[oldest_key]\n",
    "                \n",
    "        if (time.time() - self.last_checkpoint) > self.checkpoint_interval:\n",
    "            self.save_to_checkpoint('cache.checkpoint')\n",
    "            self.last_checkpoint = time.time()\n",
    "            \n",
    "    def print_cache(self):\n",
    "        print('Cache:')\n",
    "        for key, value in self.cache.items():\n",
    "            print(f\"{key}\")\n",
    "        used_space = len(self.cache)\n",
    "        remaining_space = self.max_size - used_space\n",
    "        print(f\"Cache size: {used_space}\")\n",
    "        print(f\"Remaining space: {remaining_space}\")\n",
    "\n",
    "\n",
    "cache = Cache()\n",
    "    "
   ]
  },
  {
   "cell_type": "code",
   "execution_count": 5,
   "id": "04257e25",
   "metadata": {},
   "outputs": [],
   "source": [
    "# check if the search term starts with '@'\n",
    "def UserSearch(search_term):\n",
    "    \n",
    "    if search_term.startswith('@'):\n",
    "    # remove the '@' symbol from the search term\n",
    "        search_term = search_term[1:]\n",
    "        \n",
    "        if cache.get(search_term):\n",
    "            results = cache.get(search_term)\n",
    "            \n",
    "        else:\n",
    "            # execute the query to search for user details based on username\n",
    "            query = \"\"\"\n",
    "                SELECT * FROM users \n",
    "                WHERE name LIKE %s \n",
    "                ORDER BY followers_count DESC, tweets_count DESC, verified DESC\n",
    "                LIMIT 5\n",
    "                \"\"\"\n",
    "            mycursor.execute(query, ('%' + search_term + '%',))\n",
    "            results = mycursor.fetchall()\n",
    "            for i in range(0,len(results)):\n",
    "                cache.put(results[i][1], results[i])\n",
    "\n",
    "        return results"
   ]
  },
  {
   "cell_type": "code",
   "execution_count": 6,
   "id": "13f4a428",
   "metadata": {},
   "outputs": [],
   "source": [
    "def get_user_tweets(user_id):\n",
    "    \n",
    "    if cache.get(user_id):\n",
    "        tweet_details = cache.get(user_id)\n",
    "    \n",
    "    else:\n",
    "        \n",
    "        user_tweets = list(tweets_collec.find({'User_Id': user_id}).sort([('created_at', -1)]).limit(3))\n",
    "        tweet_details = []\n",
    "        \n",
    "        for tweet in user_tweets:\n",
    "            tweet_details.append({\n",
    "                'created_at': tweet['created_at'],\n",
    "                'text': tweet['Text'],\n",
    "                'hashtags': tweet['Hashtag'],\n",
    "                'retweet_count': tweet['Retweet_Count'],\n",
    "                'likes_count': tweet['Likes_Count']\n",
    "            })\n",
    "        \n",
    "        cache.put(user_id, tweet_details)\n",
    "    return tweet_details"
   ]
  },
  {
   "cell_type": "code",
   "execution_count": 7,
   "id": "7db3de0a",
   "metadata": {},
   "outputs": [],
   "source": [
    "def get_top_hashtags(search_string, limit=5):\n",
    "    \n",
    "    if search_string.startswith('#'):\n",
    "        search_string = search_string[1:]\n",
    "        \n",
    "        hashtags = tweets_collec.aggregate([\n",
    "        { \"$match\": { \"Hashtag\": { \"$regex\": search_string, \"$options\": \"i\" } } },\n",
    "        { \"$unwind\": \"$Hashtag\" },\n",
    "        { \"$group\": { \"_id\": \"$Hashtag\", \"count\": { \"$sum\": 1 } } },\n",
    "        { \"$sort\": { \"count\": -1 } },\n",
    "        { \"$limit\": limit }\n",
    "        ])\n",
    "        \n",
    "        hashtag_dict = {}\n",
    "        for hashtag in hashtags:\n",
    "            hashtag_dict[hashtag['_id']] = hashtag['count']\n",
    "            \n",
    "        return hashtag_dict\n"
   ]
  },
  {
   "cell_type": "code",
   "execution_count": 8,
   "id": "d2a83d05",
   "metadata": {},
   "outputs": [
    {
     "data": {
      "text/plain": [
       "'Text_text'"
      ]
     },
     "execution_count": 8,
     "metadata": {},
     "output_type": "execute_result"
    }
   ],
   "source": [
    "def tweets_of_hashtag(hashtag):\n",
    "    \n",
    "    if cache.get('#' + hashtag):\n",
    "        tweets = cache.get(hashtag)[0]\n",
    "    else:\n",
    "        tweets = list(tweets_collec.find({'Hashtag': hashtag}).sort('created_at', -1).limit(3))\n",
    "        cache.put('#' + hashtag, tweets)\n",
    "    \n",
    "    return tweets\n",
    "\n",
    "\n",
    "tweets_collec.create_index([(\"Text\", \"text\")])\n"
   ]
  },
  {
   "cell_type": "code",
   "execution_count": 9,
   "id": "53d8fe31",
   "metadata": {},
   "outputs": [],
   "source": [
    "def search_tweets(search_string):\n",
    "\n",
    "    stop_words = set(stopwords.words('english'))\n",
    "    search_words = search_string.split()\n",
    "    if len(set(search_words) - stop_words) == 0:\n",
    "        return \"Error\"\n",
    "    \n",
    "    search_string = '\"' + search_string + '\"'\n",
    "    # Search for tweets matching the search string\n",
    "    query = {'$text': {'$search': search_string}}\n",
    "    projection = {'_id': 0, 'Text': 1, 'ext': 1, 'created_at': 1, 'Retweet_Count': 1, 'favorite_count': 1, 'Hashtags': 1}\n",
    "    matching_tweets = list(tweets_collec.find(query).sort([('retweeted_status', 1), ('created_at', -1)]).limit(5))\n",
    "\n",
    "    return matching_tweets"
   ]
  },
  {
   "cell_type": "code",
   "execution_count": 10,
   "id": "daaff6b1",
   "metadata": {},
   "outputs": [],
   "source": [
    "# Top 10 hashtags with are present in most tweets\n",
    "def get_top_10_hashtags(limit=10):\n",
    "    pipeline = [\n",
    "        {\"$unwind\": \"$Hashtag\"},\n",
    "        {\"$group\": {\"_id\": \"$Hashtag\", \"count\": {\"$sum\": 1}}},\n",
    "        {\"$sort\": {\"count\": -1}},\n",
    "        {\"$limit\": limit}\n",
    "    ]\n",
    "    top_hashtags = list(tweets_collec.aggregate(pipeline))\n",
    "    top_hashtags_dict = {}\n",
    "    for hashtag in top_hashtags:\n",
    "        top_hashtags_dict[hashtag['_id']] = hashtag['count']\n",
    "    return top_hashtags_dict"
   ]
  },
  {
   "cell_type": "code",
   "execution_count": 11,
   "id": "105ff4d8",
   "metadata": {},
   "outputs": [],
   "source": [
    "top_10_hash= get_top_10_hashtags()"
   ]
  },
  {
   "cell_type": "code",
   "execution_count": 12,
   "id": "4aa8876b",
   "metadata": {},
   "outputs": [],
   "source": [
    "def get_top_tweets():\n",
    "    tweets = tweets_collec.find().sort([(\"Retweet_Count\", -1), (\"Likes_Count\", -1)]).limit(10)\n",
    "    top_tweets = []\n",
    "    for tweet in tweets:\n",
    "        score = tweet['Retweet_Count'] * 0.6 + tweet['Likes_Count'] * 0.4\n",
    "        tweet['score'] = score\n",
    "        top_tweets.append(tweet)\n",
    "    top_tweets = sorted(top_tweets, key=lambda x: x['score'], reverse=True)\n",
    "    return top_tweets\n",
    "\n",
    "top_10_tweets= get_top_tweets()"
   ]
  },
  {
   "cell_type": "code",
   "execution_count": 13,
   "id": "123df56e",
   "metadata": {},
   "outputs": [],
   "source": [
    " # Top 10 users with most followers, tweets\n",
    "query = \"\"\"select id,name,screen_name,verified,followers_count,friends_count,location,tweets_count,Description from mydatabase.users \n",
    " order by followers_count DESC,tweets_count DESC \n",
    " limit 10\"\"\"\n",
    "\n",
    "mycursor.execute(query)\n",
    "top_10_users = mycursor.fetchall()\n",
    "\n",
    "tweets_cache={}\n",
    "\n",
    "app= Flask(__name__)"
   ]
  },
  {
   "cell_type": "code",
   "execution_count": 14,
   "id": "dc0a9961",
   "metadata": {},
   "outputs": [],
   "source": [
    "@app.route('/')\n",
    "def welcome():\n",
    "    return render_template('index.html')\n",
    "\n",
    "@app.route('/submit', methods=['GET', 'POST'])\n",
    "def index():\n",
    "    if request.method == 'POST':\n",
    "        global results\n",
    "        search_term= request.form['input-field']\n",
    "        if(search_term.startswith(\"@\")):\n",
    "            results=UserSearch(search_term)\n",
    "            for result in results[:5]:\n",
    "                user_id = result[0]\n",
    "                tweets_cache[user_id] = get_user_tweets(user_id)\n",
    "            return render_template('username.html', username=search_term, userinfo=results[:5])\n",
    "        elif(search_term.startswith(\"#\")):\n",
    "            hashtags = get_top_hashtags(search_term)\n",
    "            global temp_hashtag\n",
    "            temp_hashtag={}\n",
    "            for hashtag in hashtags.keys():\n",
    "                temp_hashtag[hashtag] = tweets_of_hashtag(hashtag)\n",
    "            \n",
    "            return render_template('hashtag.html', hashtag_name=search_term, hashtag_info=hashtags)\n",
    "        \n",
    "        else:\n",
    "            string_match_tweets= search_tweets(search_term)\n",
    "            return render_template('strings.html', string_search=search_term, string_tweets=string_match_tweets)"
   ]
  },
  {
   "cell_type": "code",
   "execution_count": 15,
   "id": "e70621c0",
   "metadata": {},
   "outputs": [],
   "source": [
    "@app.route('/submit_top', methods=['GET', 'POST'])\n",
    "def top_10():\n",
    "    if request.method == 'POST':\n",
    "        if request.form['action'] == 'Trending Users':\n",
    "            return render_template('top_users.html',accounts=top_10_users)\n",
    "        elif request.form['action'] == 'Trending Tweets':\n",
    "            return render_template('top_tweets.html', string_tweets=top_10_tweets)\n",
    "        elif request.form['action'] == 'Trending Hashtags':\n",
    "            return render_template('top_hashtags.html', hashtag_info=top_10_hash)\n",
    "        else:\n",
    "            message = ''\n",
    "        \n",
    "    return render_template('top.html', message=message)"
   ]
  },
  {
   "cell_type": "code",
   "execution_count": 16,
   "id": "d7438e1f",
   "metadata": {},
   "outputs": [],
   "source": [
    "@app.route('/submit2', methods=['GET', 'POST'], endpoint='user_result')\n",
    "def common_function():\n",
    "    if request.method == 'POST':\n",
    "        user_choice = int(request.form['input-field'])\n",
    "        user_id = results[user_choice-1][0]\n",
    "        if user_id in tweets_cache:\n",
    "            tweet = tweets_cache[user_id]\n",
    "        else:\n",
    "            tweet = ['1', '2', '3']\n",
    "        username = results[user_choice-1][1]\n",
    "        return render_template('username_tweets.html', username=username, tweets=tweet)\n"
   ]
  },
  {
   "cell_type": "code",
   "execution_count": 17,
   "id": "3b225ee2",
   "metadata": {},
   "outputs": [
    {
     "name": "stdout",
     "output_type": "stream",
     "text": [
      " * Serving Flask app '__main__'\n",
      " * Debug mode: on\n"
     ]
    },
    {
     "name": "stderr",
     "output_type": "stream",
     "text": [
      "WARNING: This is a development server. Do not use it in a production deployment. Use a production WSGI server instead.\n",
      " * Running on http://127.0.0.1:5000\n",
      "Press CTRL+C to quit\n",
      " * Restarting with watchdog (windowsapi)\n"
     ]
    },
    {
     "ename": "SystemExit",
     "evalue": "1",
     "output_type": "error",
     "traceback": [
      "An exception has occurred, use %tb to see the full traceback.\n",
      "\u001b[1;31mSystemExit\u001b[0m\u001b[1;31m:\u001b[0m 1\n"
     ]
    },
    {
     "name": "stderr",
     "output_type": "stream",
     "text": [
      "C:\\Users\\Admin\\anaconda3\\Lib\\site-packages\\IPython\\core\\interactiveshell.py:3513: UserWarning: To exit: use 'exit', 'quit', or Ctrl-D.\n",
      "  warn(\"To exit: use 'exit', 'quit', or Ctrl-D.\", stacklevel=1)\n"
     ]
    }
   ],
   "source": [
    "@app.route('/submit3', methods=['GET', 'POST'])\n",
    "def hash_result():\n",
    "    if request.method == 'POST':\n",
    "        hashtag_select= str(request.form['input-field'])\n",
    "        return render_template('hashtag_tweets.html',hashtag_choice=hashtag_select,hash_cache=temp_hashtag)\n",
    "\n",
    "\n",
    "if __name__== '__main__':\n",
    "    app.run(debug=True)"
   ]
  },
  {
   "cell_type": "code",
   "execution_count": null,
   "id": "0a5bdfad",
   "metadata": {},
   "outputs": [],
   "source": []
  },
  {
   "cell_type": "code",
   "execution_count": null,
   "id": "473736b4",
   "metadata": {},
   "outputs": [],
   "source": []
  }
 ],
 "metadata": {
  "kernelspec": {
   "display_name": "Python 3 (ipykernel)",
   "language": "python",
   "name": "python3"
  },
  "language_info": {
   "codemirror_mode": {
    "name": "ipython",
    "version": 3
   },
   "file_extension": ".py",
   "mimetype": "text/x-python",
   "name": "python",
   "nbconvert_exporter": "python",
   "pygments_lexer": "ipython3",
   "version": "3.11.5"
  }
 },
 "nbformat": 4,
 "nbformat_minor": 5
}
